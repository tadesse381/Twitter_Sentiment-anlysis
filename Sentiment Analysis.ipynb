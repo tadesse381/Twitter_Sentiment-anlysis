{
 "cells": [
  {
   "cell_type": "code",
   "execution_count": 239,
   "metadata": {},
   "outputs": [
    {
     "name": "stdout",
     "output_type": "stream",
     "text": [
      "                                             clean_text             polarity\n",
      "0     Giving forth life becoming burden Kenya This m...   0.3194444444444445\n",
      "1     Teenmaar crPanja crGabbarsingh cr Khaleja Kuda...                  0.0\n",
      "2     Rei chintu lo Vachina Ad Nizam ne lo kottaru f...                  0.0\n",
      "3     Today World Day Combat Restoring degraded land...                 0.25\n",
      "4     Hearing say 's confident vaccines delivered li...                  0.5\n",
      "...                                                 ...                  ...\n",
      "5616  Lambie voted AGAINST Medivac Carbon tax protec...  0.13636363636363635\n",
      "5617  Idhi bathuku Most Day1 Records In Nizam Non BB...                  0.5\n",
      "5618  welkin moon giveaway bc finally money -u got t...  0.15416666666666667\n",
      "5619  Manam edi chesina Daaniki kuda elevation istad...                  0.0\n",
      "5620  This first time I 've seen Government media le...                 0.13\n",
      "\n",
      "[5621 rows x 2 columns]\n"
     ]
    }
   ],
   "source": [
    "import pandas as pd \n",
    "import numpy as np\n",
    "import matplotlib.pyplot as plt\n",
    "from sklearn.model_selection import train_test_split\n",
    "from sklearn.linear_model import SGDClassifier\n",
    "from sklearn.preprocessing import StandardScaler\n",
    "from sklearn.feature_extraction.text import CountVectorizer\n",
    "df = pd.read_csv(\"cleaned_fintech_data.csv\", usecols = ['clean_text','polarity'])\n",
    "# above line will be different depending on where you saved your data, and your file name\n",
    "print(df)"
   ]
  },
  {
   "cell_type": "code",
   "execution_count": 240,
   "metadata": {},
   "outputs": [
    {
     "name": "stdout",
     "output_type": "stream",
     "text": [
      "                                             clean_text             polarity\n",
      "0     Giving forth life becoming burden Kenya This m...   0.3194444444444445\n",
      "1     Teenmaar crPanja crGabbarsingh cr Khaleja Kuda...                  0.0\n",
      "2     Rei chintu lo Vachina Ad Nizam ne lo kottaru f...                  0.0\n",
      "3     Today World Day Combat Restoring degraded land...                 0.25\n",
      "4     Hearing say 's confident vaccines delivered li...                  0.5\n",
      "...                                                 ...                  ...\n",
      "5616  Lambie voted AGAINST Medivac Carbon tax protec...  0.13636363636363635\n",
      "5617  Idhi bathuku Most Day1 Records In Nizam Non BB...                  0.5\n",
      "5618  welkin moon giveaway bc finally money -u got t...  0.15416666666666667\n",
      "5619  Manam edi chesina Daaniki kuda elevation istad...                  0.0\n",
      "5620  This first time I 've seen Government media le...                 0.13\n",
      "\n",
      "[5621 rows x 2 columns]\n"
     ]
    }
   ],
   "source": [
    "df[\"polarity\"] = df[\"polarity\"].astype(str)\n",
    "print(df)"
   ]
  },
  {
   "cell_type": "code",
   "execution_count": 170,
   "metadata": {},
   "outputs": [
    {
     "data": {
      "text/plain": [
       "clean_text    object\n",
       "polarity      object\n",
       "dtype: object"
      ]
     },
     "execution_count": 170,
     "metadata": {},
     "output_type": "execute_result"
    }
   ],
   "source": [
    "df.dtypes"
   ]
  },
  {
   "cell_type": "code",
   "execution_count": 241,
   "metadata": {},
   "outputs": [],
   "source": [
    "df[\"polarity\"] = pd.to_numeric(df[\"polarity\"],errors='coerce')"
   ]
  },
  {
   "cell_type": "code",
   "execution_count": 242,
   "metadata": {},
   "outputs": [
    {
     "name": "stdout",
     "output_type": "stream",
     "text": [
      "                                             clean_text  polarity     score\n",
      "0     Giving forth life becoming burden Kenya This m...  0.319444  Positive\n",
      "1     Teenmaar crPanja crGabbarsingh cr Khaleja Kuda...  0.000000   Neutral\n",
      "2     Rei chintu lo Vachina Ad Nizam ne lo kottaru f...  0.000000   Neutral\n",
      "3     Today World Day Combat Restoring degraded land...  0.250000  Positive\n",
      "4     Hearing say 's confident vaccines delivered li...  0.500000  Positive\n",
      "...                                                 ...       ...       ...\n",
      "5616  Lambie voted AGAINST Medivac Carbon tax protec...  0.136364  Positive\n",
      "5617  Idhi bathuku Most Day1 Records In Nizam Non BB...  0.500000  Positive\n",
      "5618  welkin moon giveaway bc finally money -u got t...  0.154167  Positive\n",
      "5619  Manam edi chesina Daaniki kuda elevation istad...  0.000000   Neutral\n",
      "5620  This first time I 've seen Government media le...  0.130000  Positive\n",
      "\n",
      "[5621 rows x 3 columns]\n"
     ]
    }
   ],
   "source": [
    "# create a function to define text_category\n",
    "def text_category(row):\n",
    "    if row['polarity'] < 0.0:\n",
    "        return \"Negative\"\n",
    "    elif row['polarity'] >0.0:\n",
    "        return \"Positive\"\n",
    "    else:\n",
    "        return \"Neutral\"\n",
    "# apply to dataframe, use axis=1 to apply the function to every row\n",
    "df['score'] = df.apply(text_category, axis=1)\n",
    "print(df)\n"
   ]
  },
  {
   "cell_type": "code",
   "execution_count": 164,
   "metadata": {},
   "outputs": [
    {
     "data": {
      "image/png": "[encoded data removed]",
      "text/plain": [
       "<Figure size 432x288 with 1 Axes>"
      ]
     },
     "metadata": {
      "needs_background": "light"
     },
     "output_type": "display_data"
    }
   ],
   "source": [
    "df[\"score\"].value_counts().plot.bar()\n",
    "\n",
    "plt.show()"
   ]
  },
  {
   "cell_type": "code",
   "execution_count": 163,
   "metadata": {},
   "outputs": [
    {
     "data": {
      "image/png": "[encoded data removed]",
      "text/plain": [
       "<Figure size 432x288 with 1 Axes>"
      ]
     },
     "metadata": {},
     "output_type": "display_data"
    }
   ],
   "source": [
    "df[\"score\"].value_counts().plot.pie()\n",
    "\n",
    "plt.show()"
   ]
  },
  {
   "cell_type": "code",
   "execution_count": 243,
   "metadata": {},
   "outputs": [
    {
     "name": "stdout",
     "output_type": "stream",
     "text": [
      "                                             clean_text  polarity     score  \\\n",
      "0     Giving forth life becoming burden Kenya This m...  0.319444  Positive   \n",
      "1     Teenmaar crPanja crGabbarsingh cr Khaleja Kuda...  0.000000   Neutral   \n",
      "2     Rei chintu lo Vachina Ad Nizam ne lo kottaru f...  0.000000   Neutral   \n",
      "3     Today World Day Combat Restoring degraded land...  0.250000  Positive   \n",
      "4     Hearing say 's confident vaccines delivered li...  0.500000  Positive   \n",
      "...                                                 ...       ...       ...   \n",
      "5616  Lambie voted AGAINST Medivac Carbon tax protec...  0.136364  Positive   \n",
      "5617  Idhi bathuku Most Day1 Records In Nizam Non BB...  0.500000  Positive   \n",
      "5618  welkin moon giveaway bc finally money -u got t...  0.154167  Positive   \n",
      "5619  Manam edi chesina Daaniki kuda elevation istad...  0.000000   Neutral   \n",
      "5620  This first time I 've seen Government media le...  0.130000  Positive   \n",
      "\n",
      "      scoremap  \n",
      "0            1  \n",
      "1            0  \n",
      "2            0  \n",
      "3            1  \n",
      "4            1  \n",
      "...        ...  \n",
      "5616         1  \n",
      "5617         1  \n",
      "5618         1  \n",
      "5619         0  \n",
      "5620         1  \n",
      "\n",
      "[5621 rows x 4 columns]\n"
     ]
    }
   ],
   "source": [
    "# create a function to define score_map\n",
    "def score_map(row):\n",
    "    if row['score']==\"Neutral\":\n",
    "        return 0\n",
    "    elif row['score'] ==\"Positive\":\n",
    "        return 1\n",
    "    else:\n",
    "        return 0\n",
    "# apply to dataframe, use axis=1 to apply the function to every row\n",
    "df['scoremap'] = df.apply(score_map, axis=1)\n",
    "print(df)"
   ]
  },
  {
   "cell_type": "code",
   "execution_count": 264,
   "metadata": {},
   "outputs": [
    {
     "name": "stdout",
     "output_type": "stream",
     "text": [
      "  (0, 6)\t1\n",
      "  (0, 14)\t1\n",
      "  (0, 9)\t2\n",
      "  (0, 3)\t1\n",
      "  (0, 17)\t1\n",
      "  (0, 0)\t1\n",
      "  (0, 20)\t2\n",
      "  (0, 23)\t1\n",
      "  (0, 7)\t1\n",
      "  (0, 15)\t1\n",
      "  (0, 10)\t1\n",
      "  (0, 4)\t1\n",
      "  (0, 18)\t1\n",
      "  (0, 1)\t1\n",
      "  (0, 21)\t1\n",
      "  (0, 12)\t1\n",
      "  (0, 24)\t1\n",
      "  (0, 8)\t1\n",
      "  (0, 16)\t1\n",
      "  (0, 11)\t1\n",
      "  (0, 5)\t1\n",
      "  (0, 19)\t1\n",
      "  (0, 2)\t1\n",
      "  (0, 22)\t1\n",
      "  (0, 13)\t1\n",
      "  (6, 0)\t1\n",
      "  (14, 0)\t1\n",
      "  (9, 0)\t2\n",
      "  (3, 0)\t1\n",
      "  (17, 0)\t1\n",
      "  (0, 0)\t1\n",
      "  (20, 0)\t2\n",
      "  (23, 0)\t1\n",
      "  (7, 0)\t1\n",
      "  (15, 0)\t1\n",
      "  (10, 0)\t1\n",
      "  (4, 0)\t1\n",
      "  (18, 0)\t1\n",
      "  (1, 0)\t1\n",
      "  (21, 0)\t1\n",
      "  (12, 0)\t1\n",
      "  (24, 0)\t1\n",
      "  (8, 0)\t1\n",
      "  (16, 0)\t1\n",
      "  (11, 0)\t1\n",
      "  (5, 0)\t1\n",
      "  (19, 0)\t1\n",
      "  (2, 0)\t1\n",
      "  (22, 0)\t1\n",
      "  (13, 0)\t1\n",
      "0       1\n",
      "1       0\n",
      "2       0\n",
      "3       1\n",
      "4       1\n",
      "       ..\n",
      "5616    1\n",
      "5617    1\n",
      "5618    1\n",
      "5619    0\n",
      "5620    1\n",
      "Name: scoremap, Length: 5621, dtype: int64\n",
      "(5621,)\n"
     ]
    },
    {
     "ename": "ValueError",
     "evalue": "Found input variables with inconsistent numbers of samples: [25, 5621]",
     "output_type": "error",
     "traceback": [
      "\u001b[1;31m---------------------------------------------------------------------------\u001b[0m",
      "\u001b[1;31mValueError\u001b[0m                                Traceback (most recent call last)",
      "\u001b[1;32m<ipython-input-264-4fbb19110983>\u001b[0m in \u001b[0;36m<module>\u001b[1;34m\u001b[0m\n\u001b[0;32m      9\u001b[0m \u001b[0mprint\u001b[0m\u001b[1;33m(\u001b[0m\u001b[0my\u001b[0m\u001b[1;33m)\u001b[0m\u001b[1;33m\u001b[0m\u001b[1;33m\u001b[0m\u001b[0m\n\u001b[0;32m     10\u001b[0m \u001b[0mprint\u001b[0m\u001b[1;33m(\u001b[0m\u001b[0my\u001b[0m\u001b[1;33m.\u001b[0m\u001b[0mshape\u001b[0m\u001b[1;33m)\u001b[0m\u001b[1;33m\u001b[0m\u001b[1;33m\u001b[0m\u001b[0m\n\u001b[1;32m---> 11\u001b[1;33m \u001b[0mX_train\u001b[0m\u001b[1;33m,\u001b[0m \u001b[0mX_test\u001b[0m\u001b[1;33m,\u001b[0m \u001b[0my_train\u001b[0m\u001b[1;33m,\u001b[0m \u001b[0my_test\u001b[0m \u001b[1;33m=\u001b[0m \u001b[0mtrain_test_split\u001b[0m\u001b[1;33m(\u001b[0m\u001b[0mX\u001b[0m\u001b[1;33m,\u001b[0m \u001b[0my\u001b[0m\u001b[1;33m,\u001b[0m \u001b[0mtest_size\u001b[0m \u001b[1;33m=\u001b[0m \u001b[1;36m0.20\u001b[0m\u001b[1;33m)\u001b[0m\u001b[1;33m\u001b[0m\u001b[1;33m\u001b[0m\u001b[0m\n\u001b[0m\u001b[0;32m     12\u001b[0m \u001b[0mcaler\u001b[0m \u001b[1;33m=\u001b[0m \u001b[0mStandardScaler\u001b[0m\u001b[1;33m(\u001b[0m\u001b[1;33m)\u001b[0m\u001b[1;33m\u001b[0m\u001b[1;33m\u001b[0m\u001b[0m\n\u001b[0;32m     13\u001b[0m \u001b[0mscaler\u001b[0m\u001b[1;33m.\u001b[0m\u001b[0mfit\u001b[0m\u001b[1;33m(\u001b[0m\u001b[0mX_train\u001b[0m\u001b[1;33m)\u001b[0m\u001b[1;33m\u001b[0m\u001b[1;33m\u001b[0m\u001b[0m\n",
      "\u001b[1;32m~\\anaconda3\\lib\\site-packages\\sklearn\\model_selection\\_split.py\u001b[0m in \u001b[0;36mtrain_test_split\u001b[1;34m(*arrays, **options)\u001b[0m\n\u001b[0;32m   2125\u001b[0m         \u001b[1;32mraise\u001b[0m \u001b[0mTypeError\u001b[0m\u001b[1;33m(\u001b[0m\u001b[1;34m\"Invalid parameters passed: %s\"\u001b[0m \u001b[1;33m%\u001b[0m \u001b[0mstr\u001b[0m\u001b[1;33m(\u001b[0m\u001b[0moptions\u001b[0m\u001b[1;33m)\u001b[0m\u001b[1;33m)\u001b[0m\u001b[1;33m\u001b[0m\u001b[1;33m\u001b[0m\u001b[0m\n\u001b[0;32m   2126\u001b[0m \u001b[1;33m\u001b[0m\u001b[0m\n\u001b[1;32m-> 2127\u001b[1;33m     \u001b[0marrays\u001b[0m \u001b[1;33m=\u001b[0m \u001b[0mindexable\u001b[0m\u001b[1;33m(\u001b[0m\u001b[1;33m*\u001b[0m\u001b[0marrays\u001b[0m\u001b[1;33m)\u001b[0m\u001b[1;33m\u001b[0m\u001b[1;33m\u001b[0m\u001b[0m\n\u001b[0m\u001b[0;32m   2128\u001b[0m \u001b[1;33m\u001b[0m\u001b[0m\n\u001b[0;32m   2129\u001b[0m     \u001b[0mn_samples\u001b[0m \u001b[1;33m=\u001b[0m \u001b[0m_num_samples\u001b[0m\u001b[1;33m(\u001b[0m\u001b[0marrays\u001b[0m\u001b[1;33m[\u001b[0m\u001b[1;36m0\u001b[0m\u001b[1;33m]\u001b[0m\u001b[1;33m)\u001b[0m\u001b[1;33m\u001b[0m\u001b[1;33m\u001b[0m\u001b[0m\n",
      "\u001b[1;32m~\\anaconda3\\lib\\site-packages\\sklearn\\utils\\validation.py\u001b[0m in \u001b[0;36mindexable\u001b[1;34m(*iterables)\u001b[0m\n\u001b[0;32m    290\u001b[0m     \"\"\"\n\u001b[0;32m    291\u001b[0m     \u001b[0mresult\u001b[0m \u001b[1;33m=\u001b[0m \u001b[1;33m[\u001b[0m\u001b[0m_make_indexable\u001b[0m\u001b[1;33m(\u001b[0m\u001b[0mX\u001b[0m\u001b[1;33m)\u001b[0m \u001b[1;32mfor\u001b[0m \u001b[0mX\u001b[0m \u001b[1;32min\u001b[0m \u001b[0miterables\u001b[0m\u001b[1;33m]\u001b[0m\u001b[1;33m\u001b[0m\u001b[1;33m\u001b[0m\u001b[0m\n\u001b[1;32m--> 292\u001b[1;33m     \u001b[0mcheck_consistent_length\u001b[0m\u001b[1;33m(\u001b[0m\u001b[1;33m*\u001b[0m\u001b[0mresult\u001b[0m\u001b[1;33m)\u001b[0m\u001b[1;33m\u001b[0m\u001b[1;33m\u001b[0m\u001b[0m\n\u001b[0m\u001b[0;32m    293\u001b[0m     \u001b[1;32mreturn\u001b[0m \u001b[0mresult\u001b[0m\u001b[1;33m\u001b[0m\u001b[1;33m\u001b[0m\u001b[0m\n\u001b[0;32m    294\u001b[0m \u001b[1;33m\u001b[0m\u001b[0m\n",
      "\u001b[1;32m~\\anaconda3\\lib\\site-packages\\sklearn\\utils\\validation.py\u001b[0m in \u001b[0;36mcheck_consistent_length\u001b[1;34m(*arrays)\u001b[0m\n\u001b[0;32m    253\u001b[0m     \u001b[0muniques\u001b[0m \u001b[1;33m=\u001b[0m \u001b[0mnp\u001b[0m\u001b[1;33m.\u001b[0m\u001b[0munique\u001b[0m\u001b[1;33m(\u001b[0m\u001b[0mlengths\u001b[0m\u001b[1;33m)\u001b[0m\u001b[1;33m\u001b[0m\u001b[1;33m\u001b[0m\u001b[0m\n\u001b[0;32m    254\u001b[0m     \u001b[1;32mif\u001b[0m \u001b[0mlen\u001b[0m\u001b[1;33m(\u001b[0m\u001b[0muniques\u001b[0m\u001b[1;33m)\u001b[0m \u001b[1;33m>\u001b[0m \u001b[1;36m1\u001b[0m\u001b[1;33m:\u001b[0m\u001b[1;33m\u001b[0m\u001b[1;33m\u001b[0m\u001b[0m\n\u001b[1;32m--> 255\u001b[1;33m         raise ValueError(\"Found input variables with inconsistent numbers of\"\n\u001b[0m\u001b[0;32m    256\u001b[0m                          \" samples: %r\" % [int(l) for l in lengths])\n\u001b[0;32m    257\u001b[0m \u001b[1;33m\u001b[0m\u001b[0m\n",
      "\u001b[1;31mValueError\u001b[0m: Found input variables with inconsistent numbers of samples: [25, 5621]"
     ]
    }
   ],
   "source": [
    "X = df.drop(['polarity','score','scoremap'],axis=1)\n",
    "vect = CountVectorizer(analyzer='char', ngram_range=(1,3) )\n",
    "X = vect.fit_transform(X)\n",
    "print(X)\n",
    "X.reshape(-1,1)\n",
    "X = X.transpose()\n",
    "print(X)\n",
    "y = df['scoremap']\n",
    "print(y)\n",
    "print(y.shape)\n",
    "X_train, X_test, y_train, y_test = train_test_split(X, y, test_size = 0.20)\n",
    "caler = StandardScaler()\n",
    "scaler.fit(X_train)\n",
    "X_train = scaler.transform(X_train)\n",
    "X_test = scaler.transform(X_test)\n",
    "sgdc = SGDClassifier(max_iter=1000, tol=0.01)\n",
    "sgdc.fit(X_train, y_train)"
   ]
  },
  {
   "cell_type": "code",
   "execution_count": null,
   "metadata": {},
   "outputs": [],
   "source": []
  }
 ],
 "metadata": {
  "kernelspec": {
   "display_name": "Python 3",
   "language": "python",
   "name": "python3"
  },
  "language_info": {
   "codemirror_mode": {
    "name": "ipython",
    "version": 3
   },
   "file_extension": ".py",
   "mimetype": "text/x-python",
   "name": "python",
   "nbconvert_exporter": "python",
   "pygments_lexer": "ipython3",
   "version": "3.8.5"
  }
 },
 "nbformat": 4,
 "nbformat_minor": 4
}
